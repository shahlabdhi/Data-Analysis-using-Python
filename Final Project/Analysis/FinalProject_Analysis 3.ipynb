{
 "cells": [
  {
   "cell_type": "markdown",
   "metadata": {},
   "source": [
    "- Time Series Analysis of Tweets Stored"
   ]
  },
  {
   "cell_type": "code",
   "execution_count": 21,
   "metadata": {
    "collapsed": true
   },
   "outputs": [],
   "source": [
    "from pandas import DataFrame, Series\n",
    "import pandas as pd\n",
    "import numpy as np\n",
    "import requests\n",
    "from requests_oauthlib import OAuth1\n",
    "from requests.models import Response\n",
    "from time import sleep\n",
    "import json\n",
    "%matplotlib inline\n",
    "import matplotlib.pyplot as plt\n",
    "import seaborn as sns\n",
    "import os\n",
    "import glob"
   ]
  },
  {
   "cell_type": "code",
   "execution_count": 2,
   "metadata": {
    "collapsed": false
   },
   "outputs": [
    {
     "data": {
      "text/plain": [
       "<Response [200]>"
      ]
     },
     "execution_count": 2,
     "metadata": {},
     "output_type": "execute_result"
    }
   ],
   "source": [
    "accesstoken=os.getenv('accesstoken')\n",
    "accesstokensecret=os.getenv('accesstokensecret')\n",
    "consumerkey=os.getenv('consumerkey')\n",
    "consumersecret=os.getenv('consumersecret')\n",
    "url='https://api.twitter.com/1.1/account/verify_credentials.json'\n",
    "auth = OAuth1(consumerkey, consumersecret, accesstoken,accesstokensecret)\n",
    "requests.get(url, auth=auth)"
   ]
  },
  {
   "cell_type": "code",
   "execution_count": 3,
   "metadata": {
    "collapsed": true
   },
   "outputs": [],
   "source": [
    "path='Final Project/Storing Data/'"
   ]
  },
  {
   "cell_type": "code",
   "execution_count": 128,
   "metadata": {
    "collapsed": false
   },
   "outputs": [
    {
     "name": "stdout",
     "output_type": "stream",
     "text": [
      "{'Tue': {'afternoon': 100}, 'Thu': {'morning': 100, 'evening': 632, 'night': 267}, 'Fri': {'morning': 424, 'evening': 256, 'afternoon': 100}, 'Sun': {'night': 374, 'evening': 195}, 'Mon': {'night': 100, 'evening': 100}}\n"
     ]
    }
   ],
   "source": [
    "import time\n",
    "from datetime import datetime\n",
    "\n",
    "path='Final Project/Storing Data/'\n",
    "\n",
    "\n",
    "hour_of_the_day={'morning':0,'afternoon':0,'evening':0,'night':0}\n",
    "days_of_the_week={}\n",
    "\n",
    "def findHourOfTheDay(houroftheday):\n",
    "    if houroftheday >=1 and houroftheday<12:\n",
    "                    return 'morning'\n",
    "    elif houroftheday>=12 and houroftheday <16:\n",
    "                    return 'afternoon'\n",
    "    elif houroftheday>=16 and houroftheday < 20:\n",
    "                    return 'evening'\n",
    "    else:\n",
    "                    return 'night'\n",
    "\n",
    "#with open(path+'Snapchat_1492802198.json')as f:\n",
    "for filename in glob.glob(os.path.join(path, '*.json')):\n",
    "        with open(filename) as f:\n",
    "            data = json.load(f)\n",
    "\n",
    "            hours_of_the_day=[]\n",
    "\n",
    "            for id in data:\n",
    "                    created_datetime=data[id]['created_at']\n",
    "\n",
    "                    days=created_datetime.split(' ')[0]\n",
    "                    #print(\"Days : \", days)\n",
    "\n",
    "                    timeoftheday=created_datetime.split(' ')[3]\n",
    "                    #print(\"time of day : \", timeoftheday)\n",
    "                    houroftheday=timeoftheday.split(':')[0]\n",
    "                    houroftheday=int(houroftheday)\n",
    "                    #print(\"hour of day : \", houroftheday)\n",
    "\n",
    "                    #print(houroftheday)\n",
    "\n",
    "                    if days in days_of_the_week:\n",
    "                        value={}\n",
    "                        value = days_of_the_week[days] \n",
    "                        hourOfTheDay = findHourOfTheDay(houroftheday) \n",
    "                        if hourOfTheDay in value :\n",
    "                            count =  value[hourOfTheDay]\n",
    "                            count = count + 1\n",
    "                            value[hourOfTheDay] = count\n",
    "                        else:\n",
    "                            value[hourOfTheDay] = 1\n",
    "                    else:\n",
    "                        hourOfTheDay = findHourOfTheDay(houroftheday)\n",
    "                        valueDict={}\n",
    "                        valueDict[hourOfTheDay] = 1\n",
    "                        days_of_the_week[days]  = valueDict\n",
    "        \n",
    "    \n",
    "print(days_of_the_week)"
   ]
  },
  {
   "cell_type": "code",
   "execution_count": 129,
   "metadata": {
    "collapsed": false
   },
   "outputs": [],
   "source": [
    "df=pd.DataFrame.from_dict(days_of_the_week,orient = 'index',dtype=None).reset_index()\n",
    "df.replace(np.nan, 0, regex=True,inplace=True)"
   ]
  },
  {
   "cell_type": "code",
   "execution_count": 130,
   "metadata": {
    "collapsed": false
   },
   "outputs": [
    {
     "data": {
      "text/html": [
       "<div>\n",
       "<table border=\"1\" class=\"dataframe\">\n",
       "  <thead>\n",
       "    <tr style=\"text-align: right;\">\n",
       "      <th></th>\n",
       "      <th>index</th>\n",
       "      <th>afternoon</th>\n",
       "      <th>morning</th>\n",
       "      <th>evening</th>\n",
       "      <th>night</th>\n",
       "    </tr>\n",
       "  </thead>\n",
       "  <tbody>\n",
       "    <tr>\n",
       "      <th>0</th>\n",
       "      <td>Fri</td>\n",
       "      <td>100.0</td>\n",
       "      <td>424.0</td>\n",
       "      <td>256.0</td>\n",
       "      <td>0.0</td>\n",
       "    </tr>\n",
       "    <tr>\n",
       "      <th>1</th>\n",
       "      <td>Mon</td>\n",
       "      <td>0.0</td>\n",
       "      <td>0.0</td>\n",
       "      <td>100.0</td>\n",
       "      <td>100.0</td>\n",
       "    </tr>\n",
       "    <tr>\n",
       "      <th>2</th>\n",
       "      <td>Sun</td>\n",
       "      <td>0.0</td>\n",
       "      <td>0.0</td>\n",
       "      <td>195.0</td>\n",
       "      <td>374.0</td>\n",
       "    </tr>\n",
       "    <tr>\n",
       "      <th>3</th>\n",
       "      <td>Thu</td>\n",
       "      <td>0.0</td>\n",
       "      <td>100.0</td>\n",
       "      <td>632.0</td>\n",
       "      <td>267.0</td>\n",
       "    </tr>\n",
       "    <tr>\n",
       "      <th>4</th>\n",
       "      <td>Tue</td>\n",
       "      <td>100.0</td>\n",
       "      <td>0.0</td>\n",
       "      <td>0.0</td>\n",
       "      <td>0.0</td>\n",
       "    </tr>\n",
       "  </tbody>\n",
       "</table>\n",
       "</div>"
      ],
      "text/plain": [
       "  index  afternoon  morning  evening  night\n",
       "0   Fri      100.0    424.0    256.0    0.0\n",
       "1   Mon        0.0      0.0    100.0  100.0\n",
       "2   Sun        0.0      0.0    195.0  374.0\n",
       "3   Thu        0.0    100.0    632.0  267.0\n",
       "4   Tue      100.0      0.0      0.0    0.0"
      ]
     },
     "execution_count": 130,
     "metadata": {},
     "output_type": "execute_result"
    }
   ],
   "source": [
    "df.head(10)"
   ]
  },
  {
   "cell_type": "code",
   "execution_count": 131,
   "metadata": {
    "collapsed": true
   },
   "outputs": [],
   "source": [
    "df.rename(columns={'index': 'Day_of_the_Week'}, inplace=True)"
   ]
  },
  {
   "cell_type": "code",
   "execution_count": 136,
   "metadata": {
    "collapsed": false
   },
   "outputs": [
    {
     "data": {
      "text/html": [
       "<div>\n",
       "<table border=\"1\" class=\"dataframe\">\n",
       "  <thead>\n",
       "    <tr style=\"text-align: right;\">\n",
       "      <th></th>\n",
       "      <th>Day_of_the_Week</th>\n",
       "      <th>afternoon</th>\n",
       "      <th>morning</th>\n",
       "      <th>evening</th>\n",
       "      <th>night</th>\n",
       "    </tr>\n",
       "  </thead>\n",
       "  <tbody>\n",
       "    <tr>\n",
       "      <th>0</th>\n",
       "      <td>Fri</td>\n",
       "      <td>100.0</td>\n",
       "      <td>424.0</td>\n",
       "      <td>256.0</td>\n",
       "      <td>0.0</td>\n",
       "    </tr>\n",
       "    <tr>\n",
       "      <th>1</th>\n",
       "      <td>Mon</td>\n",
       "      <td>0.0</td>\n",
       "      <td>0.0</td>\n",
       "      <td>100.0</td>\n",
       "      <td>100.0</td>\n",
       "    </tr>\n",
       "    <tr>\n",
       "      <th>2</th>\n",
       "      <td>Sun</td>\n",
       "      <td>0.0</td>\n",
       "      <td>0.0</td>\n",
       "      <td>195.0</td>\n",
       "      <td>374.0</td>\n",
       "    </tr>\n",
       "    <tr>\n",
       "      <th>3</th>\n",
       "      <td>Thu</td>\n",
       "      <td>0.0</td>\n",
       "      <td>100.0</td>\n",
       "      <td>632.0</td>\n",
       "      <td>267.0</td>\n",
       "    </tr>\n",
       "    <tr>\n",
       "      <th>4</th>\n",
       "      <td>Tue</td>\n",
       "      <td>100.0</td>\n",
       "      <td>0.0</td>\n",
       "      <td>0.0</td>\n",
       "      <td>0.0</td>\n",
       "    </tr>\n",
       "  </tbody>\n",
       "</table>\n",
       "</div>"
      ],
      "text/plain": [
       "  Day_of_the_Week  afternoon  morning  evening  night\n",
       "0             Fri      100.0    424.0    256.0    0.0\n",
       "1             Mon        0.0      0.0    100.0  100.0\n",
       "2             Sun        0.0      0.0    195.0  374.0\n",
       "3             Thu        0.0    100.0    632.0  267.0\n",
       "4             Tue      100.0      0.0      0.0    0.0"
      ]
     },
     "execution_count": 136,
     "metadata": {},
     "output_type": "execute_result"
    }
   ],
   "source": [
    "df.head(5)"
   ]
  },
  {
   "cell_type": "code",
   "execution_count": 150,
   "metadata": {
    "collapsed": false
   },
   "outputs": [
    {
     "data": {
      "text/plain": [
       "<matplotlib.figure.Figure at 0x2269dbc99e8>"
      ]
     },
     "metadata": {},
     "output_type": "display_data"
    },
    {
     "data": {
      "image/png": "[encoded data removed]",
      "text/plain": [
       "<matplotlib.figure.Figure at 0x2269b6c53c8>"
      ]
     },
     "metadata": {},
     "output_type": "display_data"
    }
   ],
   "source": [
    "ab = df.cumsum()\n",
    "plt.figure(); \n",
    "ab.plot();\n",
    "plt.legend(loc= 'upper left', bbox_to_anchor=(1, 1))\n",
    "plt.xlabel(\"Day of the week\")\n",
    "plt.ylabel(\"Number of Tweets\")\n",
    "plt.suptitle(\"Number  of Tweets depending on the time of day of the week\", fontsize=20)\n",
    "plt.xticks(np.arange(5),df['Day_of_the_Week'],rotation=50)\n",
    "plt.legend(loc= 'upper left', bbox_to_anchor=(1, 1))\n",
    "plt.savefig(\"Final Project/Analysis/Analysis 3/Images/\"+\"day_of_the_week.jpg\",bbox_inches='tight')"
   ]
  },
  {
   "cell_type": "code",
   "execution_count": 151,
   "metadata": {
    "collapsed": false
   },
   "outputs": [
    {
     "name": "stdout",
     "output_type": "stream",
     "text": [
      "dict_items([('morning', 524), ('evening', 1183), ('afternoon', 200), ('night', 741)])\n",
      "dict_items([('Tue', 100), ('Thu', 999), ('Fri', 780), ('Sun', 569), ('Mon', 200)])\n"
     ]
    }
   ],
   "source": [
    "import time\n",
    "from datetime import datetime\n",
    "days={}\n",
    "hours_of_the_day={'morning':0,'afternoon':0,'evening':0,'night':0}\n",
    "\n",
    "for filename in glob.glob(os.path.join(path, '*.json')):\n",
    "    with open(filename) as f:\n",
    "        data = json.load(f)\n",
    "        for id in data:\n",
    "            created_datetime=data[id]['created_at']\n",
    "            day=created_datetime.split(' ')[0]\n",
    "            if day not in days:\n",
    "                days[day]=1\n",
    "            else:\n",
    "                days[day]+=1\n",
    "            \n",
    "            timeoftheday=created_datetime.split(' ')[3]\n",
    "            houroftheday=timeoftheday.split(':')[0]\n",
    "            houroftheday=int(houroftheday)\n",
    "            \n",
    "            \n",
    "            if houroftheday >=1 and houroftheday<12:\n",
    "                hours_of_the_day['morning'] += 1\n",
    "            elif houroftheday>=12 and houroftheday <16:\n",
    "                hours_of_the_day['afternoon'] += 1\n",
    "            elif houroftheday>=16 and houroftheday < 20:\n",
    "                hours_of_the_day['evening'] += 1\n",
    "            else:\n",
    "                hours_of_the_day['night'] += 1\n",
    "    \n",
    "        \n",
    "print(hours_of_the_day.items())\n",
    "print(days.items())\n"
   ]
  },
  {
   "cell_type": "code",
   "execution_count": 158,
   "metadata": {
    "collapsed": true
   },
   "outputs": [],
   "source": [
    "df1=pd.DataFrame.from_dict(hours_of_the_day,orient = 'index',dtype=None).reset_index()\n",
    "df2=pd.DataFrame.from_dict(days,orient = 'index',dtype=None).reset_index()\n",
    "#df.replace(np.nan, 0, regex=True,inplace=True)"
   ]
  },
  {
   "cell_type": "code",
   "execution_count": 141,
   "metadata": {
    "collapsed": false
   },
   "outputs": [
    {
     "data": {
      "text/html": [
       "<div>\n",
       "<table border=\"1\" class=\"dataframe\">\n",
       "  <thead>\n",
       "    <tr style=\"text-align: right;\">\n",
       "      <th></th>\n",
       "      <th>index</th>\n",
       "      <th>0</th>\n",
       "    </tr>\n",
       "  </thead>\n",
       "  <tbody>\n",
       "    <tr>\n",
       "      <th>0</th>\n",
       "      <td>morning</td>\n",
       "      <td>524</td>\n",
       "    </tr>\n",
       "    <tr>\n",
       "      <th>1</th>\n",
       "      <td>evening</td>\n",
       "      <td>1183</td>\n",
       "    </tr>\n",
       "    <tr>\n",
       "      <th>2</th>\n",
       "      <td>afternoon</td>\n",
       "      <td>200</td>\n",
       "    </tr>\n",
       "    <tr>\n",
       "      <th>3</th>\n",
       "      <td>night</td>\n",
       "      <td>741</td>\n",
       "    </tr>\n",
       "  </tbody>\n",
       "</table>\n",
       "</div>"
      ],
      "text/plain": [
       "       index     0\n",
       "0    morning   524\n",
       "1    evening  1183\n",
       "2  afternoon   200\n",
       "3      night   741"
      ]
     },
     "execution_count": 141,
     "metadata": {},
     "output_type": "execute_result"
    }
   ],
   "source": [
    "df1.head(5)"
   ]
  },
  {
   "cell_type": "code",
   "execution_count": 144,
   "metadata": {
    "collapsed": true
   },
   "outputs": [],
   "source": [
    "df1.rename(columns={'index': 'Time_Period',0:'Count'}, inplace=True)"
   ]
  },
  {
   "cell_type": "code",
   "execution_count": 145,
   "metadata": {
    "collapsed": false
   },
   "outputs": [
    {
     "data": {
      "text/html": [
       "<div>\n",
       "<table border=\"1\" class=\"dataframe\">\n",
       "  <thead>\n",
       "    <tr style=\"text-align: right;\">\n",
       "      <th></th>\n",
       "      <th>Time_Period</th>\n",
       "      <th>Count</th>\n",
       "    </tr>\n",
       "  </thead>\n",
       "  <tbody>\n",
       "    <tr>\n",
       "      <th>0</th>\n",
       "      <td>morning</td>\n",
       "      <td>524</td>\n",
       "    </tr>\n",
       "    <tr>\n",
       "      <th>1</th>\n",
       "      <td>evening</td>\n",
       "      <td>1183</td>\n",
       "    </tr>\n",
       "    <tr>\n",
       "      <th>2</th>\n",
       "      <td>afternoon</td>\n",
       "      <td>200</td>\n",
       "    </tr>\n",
       "    <tr>\n",
       "      <th>3</th>\n",
       "      <td>night</td>\n",
       "      <td>741</td>\n",
       "    </tr>\n",
       "  </tbody>\n",
       "</table>\n",
       "</div>"
      ],
      "text/plain": [
       "  Time_Period  Count\n",
       "0     morning    524\n",
       "1     evening   1183\n",
       "2   afternoon    200\n",
       "3       night    741"
      ]
     },
     "execution_count": 145,
     "metadata": {},
     "output_type": "execute_result"
    }
   ],
   "source": [
    "df1.head(5)"
   ]
  },
  {
   "cell_type": "code",
   "execution_count": 149,
   "metadata": {
    "collapsed": false
   },
   "outputs": [
    {
     "data": {
      "text/plain": [
       "<matplotlib.figure.Figure at 0x2269d2fee10>"
      ]
     },
     "metadata": {},
     "output_type": "display_data"
    },
    {
     "data": {
      "image/png": "[encoded data removed]",
      "text/plain": [
       "<matplotlib.figure.Figure at 0x2269dbfd6a0>"
      ]
     },
     "metadata": {},
     "output_type": "display_data"
    }
   ],
   "source": [
    "plt.figure(figsize=(25,8))\n",
    "df1.plot(x=\"Time_Period\", y=\"Count\")\n",
    "plt.xlabel(\"Period of the day\")\n",
    "plt.ylabel(\"Tweet Count\")\n",
    "plt.suptitle(\"Number of tweets wrt period of the day\", y=1.2, fontsize=22)\n",
    "plt.xticks(rotation=50)\n",
    "plt.savefig(\"Final Project/Analysis/Analysis 3/Images/\"+\"tweets_time_period.png\", bbox_inches='tight')"
   ]
  },
  {
   "cell_type": "code",
   "execution_count": 159,
   "metadata": {
    "collapsed": false
   },
   "outputs": [
    {
     "data": {
      "text/html": [
       "<div>\n",
       "<table border=\"1\" class=\"dataframe\">\n",
       "  <thead>\n",
       "    <tr style=\"text-align: right;\">\n",
       "      <th></th>\n",
       "      <th>index</th>\n",
       "      <th>0</th>\n",
       "    </tr>\n",
       "  </thead>\n",
       "  <tbody>\n",
       "    <tr>\n",
       "      <th>0</th>\n",
       "      <td>Tue</td>\n",
       "      <td>100</td>\n",
       "    </tr>\n",
       "    <tr>\n",
       "      <th>1</th>\n",
       "      <td>Thu</td>\n",
       "      <td>999</td>\n",
       "    </tr>\n",
       "    <tr>\n",
       "      <th>2</th>\n",
       "      <td>Fri</td>\n",
       "      <td>780</td>\n",
       "    </tr>\n",
       "    <tr>\n",
       "      <th>3</th>\n",
       "      <td>Sun</td>\n",
       "      <td>569</td>\n",
       "    </tr>\n",
       "    <tr>\n",
       "      <th>4</th>\n",
       "      <td>Mon</td>\n",
       "      <td>200</td>\n",
       "    </tr>\n",
       "  </tbody>\n",
       "</table>\n",
       "</div>"
      ],
      "text/plain": [
       "  index    0\n",
       "0   Tue  100\n",
       "1   Thu  999\n",
       "2   Fri  780\n",
       "3   Sun  569\n",
       "4   Mon  200"
      ]
     },
     "execution_count": 159,
     "metadata": {},
     "output_type": "execute_result"
    }
   ],
   "source": [
    "df2.head(5)"
   ]
  },
  {
   "cell_type": "code",
   "execution_count": 160,
   "metadata": {
    "collapsed": true
   },
   "outputs": [],
   "source": [
    "df2.rename(columns={'index': 'Days',0:'Count'}, inplace=True)"
   ]
  },
  {
   "cell_type": "code",
   "execution_count": 161,
   "metadata": {
    "collapsed": false
   },
   "outputs": [
    {
     "data": {
      "text/html": [
       "<div>\n",
       "<table border=\"1\" class=\"dataframe\">\n",
       "  <thead>\n",
       "    <tr style=\"text-align: right;\">\n",
       "      <th></th>\n",
       "      <th>Days</th>\n",
       "      <th>Count</th>\n",
       "    </tr>\n",
       "  </thead>\n",
       "  <tbody>\n",
       "    <tr>\n",
       "      <th>0</th>\n",
       "      <td>Tue</td>\n",
       "      <td>100</td>\n",
       "    </tr>\n",
       "    <tr>\n",
       "      <th>1</th>\n",
       "      <td>Thu</td>\n",
       "      <td>999</td>\n",
       "    </tr>\n",
       "    <tr>\n",
       "      <th>2</th>\n",
       "      <td>Fri</td>\n",
       "      <td>780</td>\n",
       "    </tr>\n",
       "    <tr>\n",
       "      <th>3</th>\n",
       "      <td>Sun</td>\n",
       "      <td>569</td>\n",
       "    </tr>\n",
       "    <tr>\n",
       "      <th>4</th>\n",
       "      <td>Mon</td>\n",
       "      <td>200</td>\n",
       "    </tr>\n",
       "  </tbody>\n",
       "</table>\n",
       "</div>"
      ],
      "text/plain": [
       "  Days  Count\n",
       "0  Tue    100\n",
       "1  Thu    999\n",
       "2  Fri    780\n",
       "3  Sun    569\n",
       "4  Mon    200"
      ]
     },
     "execution_count": 161,
     "metadata": {},
     "output_type": "execute_result"
    }
   ],
   "source": [
    "df2"
   ]
  },
  {
   "cell_type": "code",
   "execution_count": 164,
   "metadata": {
    "collapsed": false
   },
   "outputs": [
    {
     "data": {
      "text/plain": [
       "<matplotlib.axes._subplots.AxesSubplot at 0x2269b7c6710>"
      ]
     },
     "execution_count": 164,
     "metadata": {},
     "output_type": "execute_result"
    },
    {
     "data": {
      "image/png": "[encoded data removed]",
      "text/plain": [
       "<matplotlib.figure.Figure at 0x2269b148710>"
      ]
     },
     "metadata": {},
     "output_type": "display_data"
    },
    {
     "data": {
      "image/png": "[encoded data removed]",
      "text/plain": [
       "<matplotlib.figure.Figure at 0x2269b7f3eb8>"
      ]
     },
     "metadata": {},
     "output_type": "display_data"
    }
   ],
   "source": [
    "import seaborn as sns\n",
    "\n",
    "plt.figure(figsize=(25,8))\n",
    "sns.set_style(\"whitegrid\")\n",
    "sns.set_context(\"notebook\", font_scale=2)\n",
    "sns.barplot(x=\"Days\", y=\"Count\", data=df2)\n",
    "plt.xlabel(\"Days of the Week\")\n",
    "plt.ylabel(\"Tweet Count\")\n",
    "plt.suptitle(\"Tweets on Snapchat per Day\", y=1.05, fontsize=22)\n",
    "plt.xticks(rotation=50)\n",
    "plt.savefig(\"Final Project/Analysis/Analysis 3/Images/\"+\"tweets_day.png\", bbox_inches='tight')\n",
    "\n",
    "df2.plot(x=\"Days\", y=\"Count\")"
   ]
  },
  {
   "cell_type": "code",
   "execution_count": null,
   "metadata": {
    "collapsed": true
   },
   "outputs": [],
   "source": []
  }
 ],
 "metadata": {
  "anaconda-cloud": {},
  "kernelspec": {
   "display_name": "Python [conda root]",
   "language": "python",
   "name": "conda-root-py"
  },
  "language_info": {
   "codemirror_mode": {
    "name": "ipython",
    "version": 3
   },
   "file_extension": ".py",
   "mimetype": "text/x-python",
   "name": "python",
   "nbconvert_exporter": "python",
   "pygments_lexer": "ipython3",
   "version": "3.5.2"
  }
 },
 "nbformat": 4,
 "nbformat_minor": 1
}
