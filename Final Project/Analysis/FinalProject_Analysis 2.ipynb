{
 "cells": [
  {
   "cell_type": "markdown",
   "metadata": {},
   "source": [
    "- Sentimental Analysis on the data stored"
   ]
  },
  {
   "cell_type": "code",
   "execution_count": 1,
   "metadata": {
    "collapsed": true
   },
   "outputs": [],
   "source": [
    "import requests\n",
    "from requests_oauthlib import OAuth1\n",
    "from requests.models import Response\n",
    "from time import sleep\n",
    "import glob\n",
    "import json\n",
    "import os\n",
    "import re\n",
    "import tweepy\n",
    "from textblob import TextBlob\n",
    "from nltk.tokenize import word_tokenize\n",
    "import matplotlib.pyplot as plt"
   ]
  },
  {
   "cell_type": "code",
   "execution_count": 2,
   "metadata": {
    "collapsed": false
   },
   "outputs": [
    {
     "data": {
      "text/plain": [
       "<Response [200]>"
      ]
     },
     "execution_count": 2,
     "metadata": {},
     "output_type": "execute_result"
    }
   ],
   "source": [
    "accesstoken=os.getenv('accesstoken')\n",
    "accesstokensecret=os.getenv('accesstokensecret')\n",
    "consumerkey=os.getenv('consumerkey')\n",
    "consumersecret=os.getenv('consumersecret')\n",
    "url='https://api.twitter.com/1.1/account/verify_credentials.json'\n",
    "auth = OAuth1(consumerkey, consumersecret, accesstoken,accesstokensecret)\n",
    "requests.get(url, auth=auth)"
   ]
  },
  {
   "cell_type": "code",
   "execution_count": 3,
   "metadata": {
    "collapsed": true
   },
   "outputs": [],
   "source": [
    "path='Final Project/Storing Data/'"
   ]
  },
  {
   "cell_type": "code",
   "execution_count": 6,
   "metadata": {
    "collapsed": false
   },
   "outputs": [
    {
     "name": "stdout",
     "output_type": "stream",
     "text": [
      "Positive tweets percentage: 26.6152362584378 %\n",
      "Negative tweets percentage: 14.657666345226616 %\n",
      "Neutral tweets percentage: 58.72709739633558 % \n",
      "\n",
      "\n",
      "Positive tweets:\n",
      "\"It's young, but it's not JUST young. 50% of all daily new Snapchatters in the US are 25+\" - @Cookseycc chats @Snapchat at #PubTechConnect\n",
      "RT @FallonTonight: #TicketsAt12 time! Check our @Snapchat story to find out where our intern is hiding. First to find our intern wins 2 tix…\n",
      "@Snapchat GOT RID OF MY FAVORITE FILTER. 😭😭😭😭BRING IT BACK!!! https://t.co/IX9jQxAwPr\n",
      "@Snapchat Your rated the best on #appstore #snapchat gone down #boycottsnapchat 🖕🏾 https://t.co/Yh0QKO0pDr\n",
      "@masonzyn @femwriter @GOtransitLE @GOtransitLW @GOtransit @Snapchat If I can find some, the first many I didn't log in\n",
      "RT @Manoj1418: @TheQuint @Snapchat thanks for telling us, we will develop such platform inhouse \" make in India\" 🇮🇳 u stay rich\n",
      "@Snapchat I love you, you're my favourite app.. BUT fuck, why did you have to translate your snapchat stories ?!?… https://t.co/eXBBxJlkaJ\n",
      "RT @danrusso: The @snapchat #AR update is fantastic! https://t.co/ebwWeE0aZC\n",
      "Why to boycott @Snapchat when you can make your own stuff. Make your own awesome app n give that 5 star. #snapchat #snapdeal #india\n",
      "#HappyEaster \n",
      "When Jesus rose from the grave. #selfie #mysnapchat\n",
      "@Snapchat #nomakeup #Jesus \n",
      "#SelfieSunday https://t.co/zvlSRUQOCJ\n",
      "\n",
      "\n",
      "Negative tweets:\n",
      "@Snapchat POOR,WORST,LOW LEVEL,ROAD LEVEL,dustbean level app I have ever seen.The ceo is beggar man he is mad,beggar\n",
      "@Snapchat i have a little problem with this filter how can i fix it please https://t.co/9UhGdWwH0w\n",
      "I you think India is poor then why not u ban your app in India 😂@snapchat  #uninstall snapchat\n",
      "@Snapchat put a fucking 4/20 filter up\n",
      "RT @BleedBlueForeva: It's just that Indians don't fuck with corny app like @Snapchat. https://t.co/5QRioLcOYE\n",
      "RT @HotGamerSex: What the fuck man ? @Snapchat https://t.co/HJkbcPTsSa\n",
      "@_hannahdouglass @Snapchat absolutely RIDICULOUS\n",
      "@Snapchat you actually have me so fucked up https://t.co/xiY9BWJGmU\n",
      "RT @adityampaul: Indians are attacking @snapdeal  for what @Snapchat CEO allegedly said What else do you expect when the Govt prioritizes b…\n",
      "@hansumjame @srshenoi @SirJadeja @Snapchat retard 😝\n"
     ]
    },
    {
     "data": {
      "image/png": "[encoded data removed]",
      "text/plain": [
       "<matplotlib.figure.Figure at 0x1871d709e48>"
      ]
     },
     "metadata": {},
     "output_type": "display_data"
    }
   ],
   "source": [
    "import re\n",
    "from textblob import TextBlob\n",
    "\n",
    "ptweetsperc=0.0\n",
    "ntweetsperc=0.0\n",
    "netweetsperc=0.0\n",
    "\n",
    "tweets = []\n",
    "my_tweet_dict = {}\n",
    "\n",
    "\n",
    "def preprocess_tweet(tweet):\n",
    "       return ' '.join(re.sub(\"(@[A-Za-z0-9]+)|([^0-9A-Za-z \\t])|(\\w+:\\/\\/\\S+)\", \" \", tweet).split())\n",
    " \n",
    "def tweet_sentiment(tweet):\n",
    "        cleaned_tweet = TextBlob(preprocess_tweet(tweet))\n",
    "        if cleaned_tweet.sentiment.polarity > 0:\n",
    "            return 'positive'\n",
    "        elif cleaned_tweet.sentiment.polarity == 0:\n",
    "            return 'neutral'\n",
    "        else:\n",
    "            return 'negative'\n",
    "\n",
    "def get_tweets():\n",
    "    try:\n",
    "        for filename in glob.glob(os.path.join(path, '*.json')):\n",
    "            with open(filename) as f:\n",
    "                data = json.load(f)\n",
    "                fetched_tweets = data\n",
    "                for tweet in fetched_tweets:\n",
    "                    my_tweet_dict = {}\n",
    "                    txt=fetched_tweets[tweet]['text']\n",
    "                    my_tweet_dict['text'] = txt\n",
    "                    my_tweet_dict['sentiment'] = tweet_sentiment(txt)\n",
    "            \n",
    "                    recount=fetched_tweets[tweet]['retweet_count']\n",
    "                    if recount > 0:\n",
    "                        if my_tweet_dict not in tweets:\n",
    "                            tweets.append(my_tweet_dict)\n",
    "                    else:\n",
    "                        tweets.append(my_tweet_dict)\n",
    "        return tweets\n",
    "    except tweepy.TweepError as e:\n",
    "            print(\"Error : \" + str(e))\n",
    "\n",
    "def sentimental_analysis():\n",
    "    tweets = get_tweets()\n",
    "    global ptweetsperc\n",
    "    \n",
    "    ptweets = [tweet for tweet in tweets if tweet['sentiment'] == 'positive']\n",
    "    ptweetsperc = (100*len(ptweets)/len(tweets))\n",
    "    print(\"Positive tweets percentage: {} %\".format(100*len(ptweets)/len(tweets)))\n",
    "    \n",
    "    global ntweetsperc\n",
    "    ntweets = [tweet for tweet in tweets if tweet['sentiment'] == 'negative']\n",
    "    ntweetsperc=(100*len(ntweets)/len(tweets))\n",
    "    print(\"Negative tweets percentage: {} %\".format(100*len(ntweets)/len(tweets)))\n",
    "\n",
    "    global netweetsperc\n",
    "    netweets = [tweet for tweet in tweets if tweet['sentiment'] == 'neutral']\n",
    "    netweetsperc=(100*len(netweets)/len(tweets))\n",
    "    print(\"Neutral tweets percentage: {} % \".format(100*len(netweets)/len(tweets)))\n",
    "    print(\"\\n\\nPositive tweets:\")\n",
    "    \n",
    "    for tweet in ptweets[:10]:\n",
    "        print(tweet['text'])\n",
    "        \n",
    "    print(\"\\n\\nNegative tweets:\")\n",
    "    for tweet in ntweets[:10]:\n",
    "        print(tweet['text'])\n",
    "\n",
    "sentimental_analysis()\n",
    "\n",
    "labels = ['Positive Tweets','Negative Tweets','Neutral Tweets']\n",
    "\n",
    "sizes = [ptweetsperc,ntweetsperc,netweetsperc]\n",
    "colors = ['gold', 'yellowgreen', 'lightcoral']\n",
    "\n",
    "plt.pie(sizes, labels=labels,autopct='%1.1f%%',colors=colors,shadow=True)\n",
    "plt.axis('equal')\n",
    "plt.savefig(\"Final Project/Analysis/Analysis 2/Images/\"+\"sentimental_analysis.jpg\",bbox_inches='tight')\n",
    "plt.show()\n"
   ]
  },
  {
   "cell_type": "markdown",
   "metadata": {
    "collapsed": true
   },
   "source": [
    "- Sentimental Analysis real-time based on tweepy"
   ]
  },
  {
   "cell_type": "code",
   "execution_count": 7,
   "metadata": {
    "collapsed": false
   },
   "outputs": [
    {
     "name": "stdout",
     "output_type": "stream",
     "text": [
      "Positive tweets percentage: 35.55555555555556 %\n",
      "Negative tweets percentage: 16.666666666666668 %\n",
      "Neutral tweets percentage: 47.77777777777778 %\n"
     ]
    },
    {
     "data": {
      "image/png": "[encoded data removed]",
      "text/plain": [
       "<matplotlib.figure.Figure at 0x1871e564c18>"
      ]
     },
     "metadata": {},
     "output_type": "display_data"
    }
   ],
   "source": [
    "import re\n",
    "import tweepy\n",
    "from tweepy import OAuthHandler\n",
    "from textblob import TextBlob\n",
    " \n",
    "ptweetsperc=0.0\n",
    "ntweetsperc=0.0 \n",
    "netweetsperc=0.0\n",
    "\n",
    "class TwitterClient(object):\n",
    "    \n",
    "    def __init__(self):\n",
    "        try:\n",
    "\n",
    "                self.auth = OAuthHandler(consumerkey, consumersecret)\n",
    "\n",
    "                self.auth.set_access_token(accesstoken, accesstokensecret)\n",
    "\n",
    "                self.api = tweepy.API(self.auth)\n",
    "        except:\n",
    "                print(\"Error: Authentication Failed\")\n",
    "   \n",
    " \n",
    "    def clean_tweet(self, tweet):\n",
    "       \n",
    "        return ' '.join(re.sub(\"(@[A-Za-z0-9]+)|([^0-9A-Za-z \\t])|(\\w+:\\/\\/\\S+)\", \" \", tweet).split())\n",
    " \n",
    "    def get_tweet_sentiment(self, tweet):\n",
    "       \n",
    "        \n",
    "        analysis = TextBlob(self.clean_tweet(tweet))\n",
    "        \n",
    "        \n",
    "        if analysis.sentiment.polarity > 0:\n",
    "            return 'positive'\n",
    "        elif analysis.sentiment.polarity == 0:\n",
    "            return 'neutral'\n",
    "        else:\n",
    "            return 'negative'\n",
    " \n",
    "    def get_tweets(self, query, count = 10):\n",
    "        \n",
    "       \n",
    "        tweets = []\n",
    " \n",
    "        try:\n",
    "            \n",
    "            fetched_tweets = self.api.search(q = query, count = count)\n",
    " \n",
    "            \n",
    "            for tweet in fetched_tweets:\n",
    "                # empty dictionary to store required params of a tweet\n",
    "                parsed_tweet = {}\n",
    " \n",
    "                # saving text of tweet\n",
    "                parsed_tweet['text'] = tweet.text\n",
    "                # saving sentiment of tweet\n",
    "                parsed_tweet['sentiment'] = self.get_tweet_sentiment(tweet.text)\n",
    " \n",
    "                # appending parsed tweet to tweets list\n",
    "                if tweet.retweet_count > 0:\n",
    "                    # if tweet has retweets, ensure that it is appended only once\n",
    "                    if parsed_tweet not in tweets:\n",
    "                        tweets.append(parsed_tweet)\n",
    "                else:\n",
    "                    tweets.append(parsed_tweet)\n",
    " \n",
    "            # return parsed tweets\n",
    "            return tweets\n",
    " \n",
    "        except tweepy.TweepError as e:\n",
    "            # print error (if any)\n",
    "            print(\"Error : \" + str(e))\n",
    " \n",
    "def get_sentimental_analysis():\n",
    "    # creating object of TwitterClient Class\n",
    "    api = TwitterClient()\n",
    "    # calling function to get tweets\n",
    "    tweets = api.get_tweets(query = 'cars', count = 200)\n",
    "    global ptweetsperc\n",
    "    \n",
    "    ptweets = [tweet for tweet in tweets if tweet['sentiment'] == 'positive']\n",
    "    ptweetsperc = (100*len(ptweets)/len(tweets))\n",
    "    print(\"Positive tweets percentage: {} %\".format(100*len(ptweets)/len(tweets)))\n",
    "    \n",
    "    global ntweetsperc\n",
    "    \n",
    "    ntweets = [tweet for tweet in tweets if tweet['sentiment'] == 'negative']\n",
    "    ntweetsperc=(100*len(ntweets)/len(tweets))\n",
    "    print(\"Negative tweets percentage: {} %\".format(100*len(ntweets)/len(tweets)))\n",
    "    \n",
    "    global netweetsperc\n",
    "    \n",
    "    netweets = [tweet for tweet in tweets if tweet['sentiment'] == 'neutral']\n",
    "    netweetsperc=(100*len(netweets)/len(tweets))\n",
    "    print(\"Neutral tweets percentage: {} %\".format(100*len(netweets)/len(tweets)))\n",
    " \n",
    "\n",
    "get_sentimental_analysis()\n",
    "\n",
    "\n",
    "labels = ['Positive Tweets','Negative Tweets','Neutral Tweets']\n",
    "\n",
    "sizes = [ptweetsperc,ntweetsperc,netweetsperc]\n",
    "colors = ['gold', 'yellowgreen', 'lightcoral']\n",
    "\n",
    "plt.pie(sizes, labels=labels,autopct='%1.1f%%',colors=colors,shadow=True)\n",
    "plt.axis('equal')\n",
    "plt.show()\n"
   ]
  },
  {
   "cell_type": "code",
   "execution_count": null,
   "metadata": {
    "collapsed": true
   },
   "outputs": [],
   "source": []
  }
 ],
 "metadata": {
  "anaconda-cloud": {},
  "kernelspec": {
   "display_name": "Python [conda root]",
   "language": "python",
   "name": "conda-root-py"
  },
  "language_info": {
   "codemirror_mode": {
    "name": "ipython",
    "version": 3
   },
   "file_extension": ".py",
   "mimetype": "text/x-python",
   "name": "python",
   "nbconvert_exporter": "python",
   "pygments_lexer": "ipython3",
   "version": "3.5.2"
  }
 },
 "nbformat": 4,
 "nbformat_minor": 1
}
