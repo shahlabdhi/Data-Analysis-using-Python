{
 "cells": [
  {
   "cell_type": "markdown",
   "metadata": {},
   "source": [
    "- Find the most frequent tweeter on this keyword 'Snapchat'\n",
    "- Finding the most Influential tweet and time Zone analysis of those tweets "
   ]
  },
  {
   "cell_type": "code",
   "execution_count": 1,
   "metadata": {
    "collapsed": false
   },
   "outputs": [],
   "source": [
    "import requests\n",
    "from requests_oauthlib import OAuth1\n",
    "from requests.models import Response\n",
    "from time import sleep\n",
    "import json\n",
    "import matplotlib.pyplot as plt\n",
    "import os\n",
    "import glob"
   ]
  },
  {
   "cell_type": "code",
   "execution_count": 2,
   "metadata": {
    "collapsed": false
   },
   "outputs": [
    {
     "data": {
      "text/plain": [
       "<Response [200]>"
      ]
     },
     "execution_count": 2,
     "metadata": {},
     "output_type": "execute_result"
    }
   ],
   "source": [
    "accesstoken=os.getenv('accesstoken')\n",
    "accesstokensecret=os.getenv('accesstokensecret')\n",
    "consumerkey=os.getenv('consumerkey')\n",
    "consumersecret=os.getenv('consumersecret')\n",
    "url='https://api.twitter.com/1.1/account/verify_credentials.json'\n",
    "auth = OAuth1(consumerkey, consumersecret, accesstoken,accesstokensecret)\n",
    "requests.get(url, auth=auth)"
   ]
  },
  {
   "cell_type": "code",
   "execution_count": 3,
   "metadata": {
    "collapsed": true
   },
   "outputs": [],
   "source": [
    "path='Final Project/Storing Data/'"
   ]
  },
  {
   "cell_type": "markdown",
   "metadata": {},
   "source": [
    "- Most Frequent tweeter of this topic\n"
   ]
  },
  {
   "cell_type": "code",
   "execution_count": 4,
   "metadata": {
    "collapsed": false
   },
   "outputs": [
    {
     "name": "stdout",
     "output_type": "stream",
     "text": [
      "The most frequent user is 1713036884 with the most number of tweets on Snapchat: 28\n"
     ]
    }
   ],
   "source": [
    "freq_user_id = {}\n",
    "\n",
    "for filename in glob.glob(os.path.join(path, '*.json')):\n",
    "    with open(filename) as f:\n",
    "        data = json.load(f)\n",
    "        for id in data:\n",
    "            user = data[id]['user']\n",
    "            userid=user['id_str']\n",
    "            if userid is not None: \n",
    "                if userid in freq_user_id:\n",
    "                    freq_user_id[userid] += 1\n",
    "                else: \n",
    "                    freq_user_id[userid] = 1\n",
    "                    \n",
    "for key, value in sorted(freq_user_id.items(), key=lambda x: x[1], reverse = True)[:1]:\n",
    "    print('The most frequent user is',key,'with the most number of tweets on Snapchat:', value)"
   ]
  },
  {
   "cell_type": "markdown",
   "metadata": {},
   "source": [
    "- Finding the top Influential tweets based on retweet and followers count and corresponding time zones of the same\n"
   ]
  },
  {
   "cell_type": "code",
   "execution_count": 10,
   "metadata": {
    "collapsed": false
   },
   "outputs": [
    {
     "name": "stdout",
     "output_type": "stream",
     "text": [
      "The following tweets are the most influential and their value of influence is:\n",
      "Status ID:  855163379987755008 \n",
      " RT @myvotetoday: INDIA is 2nd largest market for @facebook &amp; @Twitter but @Snapchat Founder @evanspiegel says the country is TOO POOR. Unin… \n",
      " Value of Influence: 42318738 \n",
      " Time Zone: New Delhi \n",
      "\n",
      "Status ID:  855108288001826816 \n",
      " RT @myvotetoday: INDIA is 2nd largest market for @facebook &amp; @Twitter but @Snapchat Founder @evanspiegel says the country is TOO POOR. Unin… \n",
      " Value of Influence: 41761848 \n",
      " Time Zone: New Delhi \n",
      "\n",
      "Status ID:  855089204451311618 \n",
      " #TicketsAt12 time! Check our @Snapchat story to find out where our intern is hiding. First to find our intern wins… https://t.co/jA5GeFWf8n \n",
      " Value of Influence: 30678488 \n",
      " Time Zone: Central Time (US & Canada) \n",
      "\n",
      "Status ID:  854307005665816576 \n",
      " RT @FrancoisFillon: Retrouvez mon interview sur @Snapchat dans la section Discover, pour 24 heures seulement ! https://t.co/L6Hz5ZmhaV \n",
      " Value of Influence: 22271652 \n",
      " Time Zone: Paris \n",
      "\n",
      "Status ID:  855253500451794944 \n",
      " RT @YesIamSaffron: सुना हैं @Snapchat भारत को गरीब बतारहा?\n",
      ".\n",
      "कभी दिल्ली आकर देख,यहाँ सड़कछाप\n",
      "आमआदमी भी 16000/प्लेट का खाना खाता है\n",
      "@evanspi… \n",
      " Value of Influence: 18070596 \n",
      " Time Zone: Chennai \n",
      "\n",
      "Status ID:  855271378458628096 \n",
      " RT @danrusso: The @snapchat #AR update is fantastic! https://t.co/ebwWeE0aZC \n",
      " Value of Influence: 14425520 \n",
      " Time Zone: Pacific Time (US & Canada) \n",
      "\n",
      "Status ID:  855231783620796417 \n",
      " RT @aynavleibowitz: Check out the @HoustonTexans 2017 schedule on @Snapchat!\n",
      "\n",
      "👻: texans https://t.co/5VcHHX0fzP \n",
      " Value of Influence: 11320736 \n",
      " Time Zone: Mountain Time (US & Canada) \n",
      "\n",
      "Status ID:  855094122356645890 \n",
      " RT @MLP_officiel: 👻 Retrouvez mes réponses à vos questions sur la FAQ de @Snapchat !\n",
      "\n",
      "Rejoignez-moi sur #Snapchat ➡️ @mlp_officiel 😉 https:… \n",
      " Value of Influence: 9020781 \n",
      " Time Zone: Paris \n",
      "\n",
      "Status ID:  854309228575641601 \n",
      " RT @FrancoisFillon: Retrouvez mon interview sur @Snapchat dans la section Discover, pour 24 heures seulement ! https://t.co/L6Hz5ZmhaV \n",
      " Value of Influence: 7896492 \n",
      " Time Zone: None \n",
      "\n",
      "Status ID:  855124228928139266 \n",
      " @schneiderhome @tigerfish4 @UKLabour @Snapchat @jeremycorbyn Is that his handle \n",
      " Value of Influence: 5962158 \n",
      " Time Zone: London \n",
      "\n",
      "Status ID:  855437115332669440 \n",
      " RT @MLP_officiel: 👻 Retrouvez mes réponses à vos questions sur la FAQ de @Snapchat !\n",
      "\n",
      "Rejoignez-moi sur #Snapchat ➡️ @mlp_officiel 😉 https:… \n",
      " Value of Influence: 5636316 \n",
      " Time Zone: Paris \n",
      "\n",
      "Status ID:  855271258602192897 \n",
      " RT @tanxfighter: Awesome update @Snapchat. Normal day @ALLENkota https://t.co/Et7n8fwM4h \n",
      " Value of Influence: 5409570 \n",
      " Time Zone: Pacific Time (US & Canada) \n",
      "\n",
      "Status ID:  854058001363349508 \n",
      " RT @FrancoisFillon: Retrouvez mon interview sur @Snapchat dans la section Discover, pour 24 heures seulement ! https://t.co/L6Hz5ZmhaV \n",
      " Value of Influence: 4330620 \n",
      " Time Zone: Paris \n",
      "\n",
      "Status ID:  855089290543497217 \n",
      " RT @namrataa007: Evan spiegel : India is a Poor Country.\n",
      "Swissbank : Lol\n",
      "@Snapchat @evanspiegel\n",
      "#boycottsnapchat \n",
      " Value of Influence: 4134214 \n",
      " Time Zone: None \n",
      "\n",
      "Status ID:  854309823843893253 \n",
      " RT @FrancoisFillon: Retrouvez mon interview sur @Snapchat dans la section Discover, pour 24 heures seulement ! https://t.co/L6Hz5ZmhaV \n",
      " Value of Influence: 3498612 \n",
      " Time Zone: Paris \n",
      "\n",
      "{'Paris': 5, 'Central Time (US & Canada)': 1, 'Chennai': 1, 'New Delhi': 2, 'Mountain Time (US & Canada)': 1, 'Pacific Time (US & Canada)': 2, 'London': 1}\n"
     ]
    },
    {
     "data": {
      "image/png": "[encoded data removed]",
      "text/plain": [
       "<matplotlib.figure.Figure at 0x1c30e517908>"
      ]
     },
     "metadata": {},
     "output_type": "display_data"
    }
   ],
   "source": [
    "influential_tweets = {}\n",
    "timezones = {}\n",
    "\n",
    "for filename in glob.glob(os.path.join(path, '*.json')):\n",
    "    with open(filename) as f:\n",
    "        data = json.load(f)\n",
    "        for key in data:\n",
    "            if data[key]['retweet_count'] > 0:\n",
    "                retweets = data[key]['retweet_count']\n",
    "                followers = data[key]['user']['followers_count']\n",
    "                influential_tweets[key] = retweets * followers\n",
    "                \n",
    "        print(\"The following tweets are the most influential and their value of influence is:\")\n",
    "        try:\n",
    "            for key, value in sorted(influential_tweets.items(), key=lambda x: x[1], reverse = True)[:15]:\n",
    "                print('Status ID: ',key,'\\n',data[key]['text'],'\\n','Value of Influence:', value, '\\n','Time Zone:',data[key]['user']['time_zone'],'\\n')\n",
    "                time_zone=data[key]['user']['time_zone']\n",
    "                if time_zone is not None:\n",
    "                    if time_zone in timezones:\n",
    "                        timezones[time_zone] += 1\n",
    "                    else:\n",
    "                        timezones[time_zone] = 1\n",
    "                    \n",
    "        except(KeyError):\n",
    "            continue\n",
    "\n",
    "print(timezones)\n",
    "\n",
    "copy = []\n",
    "for k,v in timezones.items():\n",
    "    copy.append((v, k))\n",
    "copy=sorted(copy,reverse=True)\n",
    "\n",
    "k=[]\n",
    "v=[]\n",
    "\n",
    "for x in copy[:10]:\n",
    "    k.append(x[1])\n",
    "    v.append(x[0])\n",
    "\n",
    "plt.bar(range(len(k)), v,align='center')\n",
    "locs, labels =plt.xticks(range(len(k)), k)\n",
    "plt.setp(labels, rotation=90)\n",
    "\n",
    "plt.savefig(\"Final Project/Analysis/Analysis 1/Images/\"+\"time_zone.jpg\",bbox_inches='tight')\n",
    "plt.show()     \n",
    "        "
   ]
  },
  {
   "cell_type": "code",
   "execution_count": null,
   "metadata": {
    "collapsed": true
   },
   "outputs": [],
   "source": []
  }
 ],
 "metadata": {
  "anaconda-cloud": {},
  "kernelspec": {
   "display_name": "Python [conda root]",
   "language": "python",
   "name": "conda-root-py"
  },
  "language_info": {
   "codemirror_mode": {
    "name": "ipython",
    "version": 3
   },
   "file_extension": ".py",
   "mimetype": "text/x-python",
   "name": "python",
   "nbconvert_exporter": "python",
   "pygments_lexer": "ipython3",
   "version": "3.5.2"
  }
 },
 "nbformat": 4,
 "nbformat_minor": 1
}
