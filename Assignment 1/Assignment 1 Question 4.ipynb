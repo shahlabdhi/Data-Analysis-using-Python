{
 "cells": [
  {
   "cell_type": "markdown",
   "metadata": {},
   "source": [
    "# Questions\n",
    "- Files present in nps_chat\n",
    "- Find 'user121' and number of posts posted by him\n",
    "- Unique user in each age group"
   ]
  },
  {
   "cell_type": "code",
   "execution_count": 1,
   "metadata": {
    "collapsed": false
   },
   "outputs": [
    {
     "data": {
      "text/plain": [
       "['10-19-20s_706posts.xml',\n",
       " '10-19-30s_705posts.xml',\n",
       " '10-19-40s_686posts.xml',\n",
       " '10-19-adults_706posts.xml',\n",
       " '10-24-40s_706posts.xml',\n",
       " '10-26-teens_706posts.xml',\n",
       " '11-06-adults_706posts.xml',\n",
       " '11-08-20s_705posts.xml',\n",
       " '11-08-40s_706posts.xml',\n",
       " '11-08-adults_705posts.xml',\n",
       " '11-08-teens_706posts.xml',\n",
       " '11-09-20s_706posts.xml',\n",
       " '11-09-40s_706posts.xml',\n",
       " '11-09-adults_706posts.xml',\n",
       " '11-09-teens_706posts.xml']"
      ]
     },
     "execution_count": 1,
     "metadata": {},
     "output_type": "execute_result"
    }
   ],
   "source": [
    "import nltk\n",
    "nltk.corpus.nps_chat.fileids()"
   ]
  },
  {
   "cell_type": "code",
   "execution_count": 16,
   "metadata": {
    "collapsed": false
   },
   "outputs": [
    {
     "name": "stdout",
     "output_type": "stream",
     "text": [
      "Number of posts posted by User121 is 132\n"
     ]
    }
   ],
   "source": [
    "import nltk.corpus\n",
    "posts = nltk.corpus.nps_chat.xml_posts()\n",
    "count = 0\n",
    "for post in posts:\n",
    "    a = post.get(key='user')\n",
    "    b = a.index(\"User\",0)\n",
    "    #print(a[b:])\n",
    "    if a[b:] == 'User121':\n",
    "        count +=1\n",
    "print(\"Number of posts posted by User121 is\",count)"
   ]
  },
  {
   "cell_type": "code",
   "execution_count": 24,
   "metadata": {
    "collapsed": false
   },
   "outputs": [
    {
     "name": "stdout",
     "output_type": "stream",
     "text": [
      "teens 206\n",
      "30s 44\n",
      "20s 162\n",
      "adults 138\n",
      "40s 80\n"
     ]
    }
   ],
   "source": [
    "import nltk.corpus\n",
    "posts = nltk.corpus.nps_chat.xml_posts()\n",
    "uniqueuser = dict()\n",
    "for post in posts:\n",
    "    a = post.get(key='user')\n",
    "    b = a.index(\"User\",0)\n",
    "    if a[6:b] not in uniqueuser:\n",
    "        uniqueuser[(a[6:b])] = set()\n",
    "    uniqueuser[a[6:b]].add(a[b:])\n",
    "for key,value in uniqueuser.items():\n",
    "    print(key, len(value))"
   ]
  }
 ],
 "metadata": {
  "anaconda-cloud": {},
  "kernelspec": {
   "display_name": "Python [conda root]",
   "language": "python",
   "name": "conda-root-py"
  },
  "language_info": {
   "codemirror_mode": {
    "name": "ipython",
    "version": 3
   },
   "file_extension": ".py",
   "mimetype": "text/x-python",
   "name": "python",
   "nbconvert_exporter": "python",
   "pygments_lexer": "ipython3",
   "version": "3.5.2"
  }
 },
 "nbformat": 4,
 "nbformat_minor": 1
}
