{
 "cells": [
  {
   "cell_type": "markdown",
   "metadata": {},
   "source": [
    "# Question 2\n",
    "- content from file 'melville-moby_dick.txt' \n",
    "- frequency of 26 characters\n",
    "- List all 26 characters in order base on their frequency"
   ]
  },
  {
   "cell_type": "code",
   "execution_count": 2,
   "metadata": {
    "collapsed": true
   },
   "outputs": [],
   "source": [
    "import nltk"
   ]
  },
  {
   "cell_type": "code",
   "execution_count": 6,
   "metadata": {
    "collapsed": false
   },
   "outputs": [
    {
     "name": "stdout",
     "output_type": "stream",
     "text": [
      "Raw text length 1242990\n",
      "Words length 260819\n",
      "Sentences length 10059\n",
      "First 10 raw text [Moby Dick\n",
      "First 10 Words  ['[', 'Moby', 'Dick', 'by', 'Herman', 'Melville', '1851', ']', 'ETYMOLOGY', '.']\n",
      "First 10 sentences [['[', 'Moby', 'Dick', 'by', 'Herman', 'Melville', '1851', ']'], ['ETYMOLOGY', '.'], ['(', 'Supplied', 'by', 'a', 'Late', 'Consumptive', 'Usher', 'to', 'a', 'Grammar', 'School', ')'], ['The', 'pale', 'Usher', '--', 'threadbare', 'in', 'coat', ',', 'heart', ',', 'body', ',', 'and', 'brain', ';', 'I', 'see', 'him', 'now', '.'], ['He', 'was', 'ever', 'dusting', 'his', 'old', 'lexicons', 'and', 'grammars', ',', 'with', 'a', 'queer', 'handkerchief', ',', 'mockingly', 'embellished', 'with', 'all', 'the', 'gay', 'flags', 'of', 'all', 'the', 'known', 'nations', 'of', 'the', 'world', '.'], ['He', 'loved', 'to', 'dust', 'his', 'old', 'grammars', ';', 'it', 'somehow', 'mildly', 'reminded', 'him', 'of', 'his', 'mortality', '.'], ['\"', 'While', 'you', 'take', 'in', 'hand', 'to', 'school', 'others', ',', 'and', 'to', 'teach', 'them', 'by', 'what', 'name', 'a', 'whale', '-', 'fish', 'is', 'to', 'be', 'called', 'in', 'our', 'tongue', 'leaving', 'out', ',', 'through', 'ignorance', ',', 'the', 'letter', 'H', ',', 'which', 'almost', 'alone', 'maketh', 'the', 'signification', 'of', 'the', 'word', ',', 'you', 'deliver', 'that', 'which', 'is', 'not', 'true', '.\"'], ['--', 'HACKLUYT'], ['\"', 'WHALE', '.'], ['...', 'Sw', '.', 'and', 'Dan', '.']]\n"
     ]
    }
   ],
   "source": [
    "raw_txt = nltk.corpus.gutenberg.raw('melville-moby_dick.txt')\n",
    "words_txt = nltk.corpus.gutenberg.words('melville-moby_dick.txt')\n",
    "sents_txt = nltk.corpus.gutenberg.sents('melville-moby_dick.txt')\n",
    "\n",
    "print(\"Raw text length\",len(raw_txt))\n",
    "print(\"Words length\",len(words_txt))\n",
    "print(\"Sentences length\",len(sents_txt))\n",
    "\n",
    "print(\"First 10 raw text\",raw_txt[:10])\n",
    "print(\"First 10 Words \",words_txt[:10])\n",
    "print(\"First 10 sentences\",sents_txt[:10])"
   ]
  },
  {
   "cell_type": "code",
   "execution_count": 17,
   "metadata": {
    "collapsed": false
   },
   "outputs": [
    {
     "name": "stdout",
     "output_type": "stream",
     "text": [
      "v 8598\n",
      "k 8059\n",
      "r 52134\n",
      "z 632\n",
      "q 1556\n",
      "u 26697\n",
      "p 17255\n",
      "m 23277\n",
      "w 22222\n",
      "x 1030\n",
      "a 77916\n",
      "d 38219\n",
      "t 87996\n",
      "l 42793\n",
      "y 16872\n",
      "i 65434\n",
      "h 62896\n",
      "s 64231\n",
      "f 20833\n",
      "g 20820\n",
      "n 65617\n",
      "o 69326\n",
      "b 16877\n",
      "j 1082\n",
      "c 22507\n",
      "e 117092\n"
     ]
    }
   ],
   "source": [
    "import string\n",
    "L = []\n",
    "L = nltk.corpus.gutenberg.raw('melville-moby_dick.txt')\n",
    "words = L.lower()\n",
    "ws = words.replace(' ','')\n",
    "#sm = ws.translate(None,string.punctuation+' ')\n",
    "charcount={}\n",
    "alpha = list('abcdefghijklmnopqrstuvwxyz')\n",
    "for x in alpha:\n",
    "    charcount[x] = ws.count(x)\n",
    "for k,v in charcount.items():\n",
    "    print(k, v)"
   ]
  },
  {
   "cell_type": "code",
   "execution_count": 19,
   "metadata": {
    "collapsed": false
   },
   "outputs": [
    {
     "name": "stdout",
     "output_type": "stream",
     "text": [
      "e 117092\n",
      "t 87996\n",
      "a 77916\n",
      "o 69326\n",
      "n 65617\n",
      "i 65434\n",
      "s 64231\n",
      "h 62896\n",
      "r 52134\n",
      "l 42793\n",
      "d 38219\n",
      "u 26697\n",
      "m 23277\n",
      "c 22507\n",
      "w 22222\n",
      "f 20833\n",
      "g 20820\n",
      "p 17255\n",
      "b 16877\n",
      "y 16872\n",
      "v 8598\n",
      "k 8059\n",
      "q 1556\n",
      "j 1082\n",
      "x 1030\n",
      "z 632\n"
     ]
    }
   ],
   "source": [
    "import string\n",
    "L = []\n",
    "L = nltk.corpus.gutenberg.raw('melville-moby_dick.txt')\n",
    "words = L.lower()\n",
    "ws = words.replace(' ','')\n",
    "#sm = ws.translate(None,string.punctuation+' ')\n",
    "charcount={}\n",
    "alpha = list('abcdefghijklmnopqrstuvwxyz')\n",
    "for x in alpha:\n",
    "    charcount[x] = ws.count(x)\n",
    "#for k,v in charcount.items():\n",
    "#    print(k, v)\n",
    "\n",
    "copy = []\n",
    "for k,v in charcount.items():\n",
    "    copy.append((v, k))\n",
    "\n",
    "\n",
    "copy = sorted(copy, reverse=True)\n",
    "\n",
    "for k in copy:\n",
    "    print(k[1], k[0])"
   ]
  }
 ],
 "metadata": {
  "anaconda-cloud": {},
  "kernelspec": {
   "display_name": "Python [conda root]",
   "language": "python",
   "name": "conda-root-py"
  },
  "language_info": {
   "codemirror_mode": {
    "name": "ipython",
    "version": 3
   },
   "file_extension": ".py",
   "mimetype": "text/x-python",
   "name": "python",
   "nbconvert_exporter": "python",
   "pygments_lexer": "ipython3",
   "version": "3.5.2"
  }
 },
 "nbformat": 4,
 "nbformat_minor": 1
}
