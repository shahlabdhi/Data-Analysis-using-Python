{
 "cells": [
  {
   "cell_type": "markdown",
   "metadata": {},
   "source": [
    "# Questions\n",
    "- Files present in Webtext\n",
    "- Content in pirates.txt\n",
    "- Leading man in the movie"
   ]
  },
  {
   "cell_type": "code",
   "execution_count": 1,
   "metadata": {
    "collapsed": false
   },
   "outputs": [
    {
     "data": {
      "text/plain": [
       "['firefox.txt',\n",
       " 'grail.txt',\n",
       " 'overheard.txt',\n",
       " 'pirates.txt',\n",
       " 'singles.txt',\n",
       " 'wine.txt']"
      ]
     },
     "execution_count": 1,
     "metadata": {},
     "output_type": "execute_result"
    }
   ],
   "source": [
    "import nltk\n",
    "nltk.corpus.webtext.fileids()"
   ]
  },
  {
   "cell_type": "code",
   "execution_count": 3,
   "metadata": {
    "collapsed": false
   },
   "outputs": [
    {
     "name": "stdout",
     "output_type": "stream",
     "text": [
      "Raw text length 95368\n",
      "Words length 22679\n",
      "Sentences length 1469\n"
     ]
    }
   ],
   "source": [
    "raw_txt = nltk.corpus.webtext.raw('pirates.txt')\n",
    "words_txt = nltk.corpus.webtext.words('pirates.txt')\n",
    "sents_txt = nltk.corpus.webtext.sents('pirates.txt')\n",
    "\n",
    "print(\"Raw text length\",len(raw_txt))\n",
    "print(\"Words length\",len(words_txt))\n",
    "print(\"Sentences length\",len(sents_txt))"
   ]
  },
  {
   "cell_type": "code",
   "execution_count": 28,
   "metadata": {
    "collapsed": false
   },
   "outputs": [
    {
     "name": "stdout",
     "output_type": "stream",
     "text": [
      "1531\n",
      "193\n",
      "133\n",
      "Jack Sparrow is the lead\n"
     ]
    }
   ],
   "source": [
    "with open(\"C:/nltk_data/corpora/webtext/pirates.txt\") as ipfile:\n",
    "    file= ipfile.read().splitlines()\n",
    "print(len(file))\n",
    "count = 0\n",
    "count1 = 0\n",
    "for line in file:\n",
    "    if line.startswith('JACK SPARROW:'):\n",
    "        count += 1\n",
    "    elif line.startswith('WILL TURNER:'):\n",
    "        count1 += 1\n",
    "print(count)\n",
    "print(count1)\n",
    "if count > count1:\n",
    "    print(\"Jack Sparrow is the lead\")\n",
    "else:\n",
    "    print(\"Will Turner is the lead\")\n",
    "    "
   ]
  }
 ],
 "metadata": {
  "anaconda-cloud": {},
  "kernelspec": {
   "display_name": "Python [conda root]",
   "language": "python",
   "name": "conda-root-py"
  },
  "language_info": {
   "codemirror_mode": {
    "name": "ipython",
    "version": 3
   },
   "file_extension": ".py",
   "mimetype": "text/x-python",
   "name": "python",
   "nbconvert_exporter": "python",
   "pygments_lexer": "ipython3",
   "version": "3.5.2"
  }
 },
 "nbformat": 4,
 "nbformat_minor": 1
}
