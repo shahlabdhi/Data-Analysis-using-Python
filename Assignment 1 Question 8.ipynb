{
 "cells": [
  {
   "cell_type": "markdown",
   "metadata": {},
   "source": [
    "# Questions:\n",
    "- Word found in nps_chat but not in wordlist\n",
    "- Unusual words people speak in chat\n",
    "- Count emoticons "
   ]
  },
  {
   "cell_type": "code",
   "execution_count": 29,
   "metadata": {
    "collapsed": false
   },
   "outputs": [
    {
     "name": "stdout",
     "output_type": "stream",
     "text": [
      "Number of unusual words are: 453\n"
     ]
    }
   ],
   "source": [
    "import string\n",
    "import nltk\n",
    "\n",
    "alpha = list(string.ascii_lowercase)\n",
    "\n",
    "L = nltk.corpus.nps_chat.fileids()\n",
    "L1 = nltk.corpus.words.fileids()\n",
    "\n",
    "for name in L:\n",
    "        words_txt = nltk.corpus.nps_chat.words(name)\n",
    "        words_txt = [x.lower() for x in words_txt]\n",
    "        wdnpsset = set(words_txt)\n",
    "    \n",
    "\n",
    "for name1 in L1:\n",
    "        words_txt1 = nltk.corpus.words.words(name1)\n",
    "        words_txt1 = [x.lower() for x in words_txt1]\n",
    "        wdwordset = set(words_txt1)\n",
    "        \n",
    "\n",
    "count=0\n",
    "for y in wdnpsset:\n",
    "    if y not in wdwordset:\n",
    "        if y.isalpha():\n",
    "            count+=1\n",
    "            #print(y)\n",
    "            \n",
    "print (\"Number of unusual words are:\", count)"
   ]
  },
  {
   "cell_type": "code",
   "execution_count": 32,
   "metadata": {
    "collapsed": false
   },
   "outputs": [
    {
     "name": "stdout",
     "output_type": "stream",
     "text": [
      "Number of emoticons are 595\n"
     ]
    }
   ],
   "source": [
    "import nltk.corpus\n",
    "posts = nltk.corpus.nps_chat.xml_posts()\n",
    "count = 0\n",
    "Labelled_names=[(post.text,post.get('class')) for post in posts]\n",
    "for x in Labelled_names:\n",
    "    if x[1]=='Emotion':\n",
    "        if not (x[0]).isalpha():\n",
    "            #print(x[0])\n",
    "            count += 1\n",
    "print(\"Number of emoticons are\", count)"
   ]
  },
  {
   "cell_type": "code",
   "execution_count": null,
   "metadata": {
    "collapsed": true
   },
   "outputs": [],
   "source": []
  }
 ],
 "metadata": {
  "anaconda-cloud": {},
  "kernelspec": {
   "display_name": "Python [conda root]",
   "language": "python",
   "name": "conda-root-py"
  },
  "language_info": {
   "codemirror_mode": {
    "name": "ipython",
    "version": 3
   },
   "file_extension": ".py",
   "mimetype": "text/x-python",
   "name": "python",
   "nbconvert_exporter": "python",
   "pygments_lexer": "ipython3",
   "version": "3.5.2"
  }
 },
 "nbformat": 4,
 "nbformat_minor": 1
}
