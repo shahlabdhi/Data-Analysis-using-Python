{
 "cells": [
  {
   "cell_type": "markdown",
   "metadata": {},
   "source": [
    "# Find maximum emails were sent by whom and its count"
   ]
  },
  {
   "cell_type": "code",
   "execution_count": 31,
   "metadata": {
    "collapsed": false,
    "scrolled": false
   },
   "outputs": [
    {
     "name": "stdout",
     "output_type": "stream",
     "text": [
      "Maximum items were sent by kaminski-v: 1696\n"
     ]
    }
   ],
   "source": [
    "import nltk\n",
    "from email.parser import Parser\n",
    "import os,glob\n",
    "\n",
    "max=1\n",
    "maxname=''\n",
    "pathname = 'C:/Users/labdhi/midterm/data/enron/enron_mail_20150507/maildir'\n",
    "\n",
    "for f in os.listdir(pathname):\n",
    "    path1 = pathname+'/'+f+'/sent_items'\n",
    "    for filename in glob.glob(path1):\n",
    "        num_files = len([fname for fname in os.listdir(path1)\n",
    "                if os.path.isfile(os.path.join(path1, fname))])\n",
    "        #print(\"Sent items by \"+f+\" is:\",num_files)    \n",
    "        if(max<num_files):\n",
    "            max=num_files\n",
    "            maxname = f\n",
    "print(\"Maximum items were sent by \"+maxname+\":\",max)"
   ]
  },
  {
   "cell_type": "markdown",
   "metadata": {},
   "source": [
    "# Top 10 recipients of email sent to by Kaminski-v"
   ]
  },
  {
   "cell_type": "code",
   "execution_count": 2,
   "metadata": {
    "collapsed": false
   },
   "outputs": [
    {
     "name": "stdout",
     "output_type": "stream",
     "text": [
      "[('vkaminski@aol.com', 601), ('shirley.crenshaw@enron.com', 99), ('a..roberts@enron.com', 26), ('anne.labbe@enron.com', 22), ('vasant.shanbhogue@enron.com', 19), ('molly.magee@enron.com', 14), ('stinson.gibner@enron.com', 14), ('brian.mihura@enron.com', 14), ('zimin.lu@enron.com', 13), ('j.kaminski@enron.com', 12)]\n"
     ]
    }
   ],
   "source": [
    "import nltk\n",
    "import email\n",
    "from email.parser import Parser\n",
    "from email.mime.text import MIMEText\n",
    "import os,glob\n",
    "from collections import Counter \n",
    "\n",
    "pathname = 'C:/Users/labdhi/midterm/data/enron/enron_mail_20150507/maildir/kaminski-v/sent_items'\n",
    "filenames = []\n",
    "names = {}\n",
    "\n",
    "def files():\n",
    "    for fname in os.listdir(pathname):\n",
    "        if os.path.isfile(os.path.join(pathname,fname)):\n",
    "            filenames.append(fname)\n",
    "    return filenames \n",
    "\n",
    "filenames=files()\n",
    "#print(filenames)\n",
    "\n",
    "for filename in filenames:\n",
    "    #print(filename)\n",
    "    with open(pathname+'/'+filename) as fn:\n",
    "        headers=Parser().parse(fn)\n",
    "        fromname=headers['From']\n",
    "        toname=headers['To']\n",
    "        if toname not in names:\n",
    "            names[toname]=1\n",
    "        else:\n",
    "            names[toname]+=1\n",
    "        #print(fromname)\n",
    "        #print(toname)\n",
    "\n",
    "c=Counter(names)\n",
    "print(c.most_common()[:10])"
   ]
  },
  {
   "cell_type": "markdown",
   "metadata": {},
   "source": [
    "# Bi-variant Analysis - Emails sent internal (enron.com) and externally by each Individual"
   ]
  },
  {
   "cell_type": "code",
   "execution_count": 32,
   "metadata": {
    "collapsed": false
   },
   "outputs": [],
   "source": [
    "import nltk\n",
    "import email\n",
    "from email.parser import Parser\n",
    "from email.mime.text import MIMEText\n",
    "import os,glob\n",
    "from collections import Counter \n",
    "import re\n",
    "from datetime import datetime,date,timedelta\n",
    "import csv\n",
    "\n",
    "pathname = 'C:/Users/labdhi/midterm/data/enron/enron_mail_20150507/maildir'\n",
    "filenames = []\n",
    "path1 = pathname\n",
    "pathdir =[]\n",
    "fromnames = {}\n",
    "\n",
    "def names():\n",
    "    for fname in os.listdir(pathname):\n",
    "        path1 = pathname+'/'+fname+'/sent_items'\n",
    "        if os.path.exists(path1):\n",
    "            pathdir.append(path1)\n",
    "    return pathdir\n",
    "    \n",
    "def files(pathname):\n",
    "    for fname in os.listdir(pathname):\n",
    "        if os.path.isfile(os.path.join(pathname,fname)):\n",
    "            filenames.append(fname)\n",
    "    return filenames \n",
    "\n",
    "\n",
    "pathdir = names()\n",
    "#print(\"Path Directory\",pathdir)\n",
    "#filenames=files()\n",
    "\n",
    "with open(\"BIVariantAnalysis.csv\", \"w\",encoding='utf-8') as fp:\n",
    "        header=['From','Internal Email Count','External Email Count']\n",
    "        writer = csv.DictWriter(fp, fieldnames=header,lineterminator='\\n')\n",
    "        writer.writeheader()\n",
    "        for filename in pathdir:\n",
    "            internal = 0\n",
    "            external=0\n",
    "            for finame in (files(filename)):\n",
    "                with open(filename+'/'+finame) as fn:\n",
    "                    filenames=[]\n",
    "                    #print(filename+'/'+finame)\n",
    "                    headers=Parser().parse(fn)\n",
    "                    fromname=headers['From']\n",
    "                    toname=headers['To']\n",
    "                    date = headers['Date']\n",
    "                    #print(date)\n",
    "                    #match = re.search(r'\\d{2}-\\d{3}-\\d{4}', date)\n",
    "                    #date = datetime.strptime(date, '%d-%m-%y').date()\n",
    "                    #print(date)\n",
    "                    if toname is not None:\n",
    "                            tonames=toname.split(',')[0]\n",
    "                            if tonames is not None:\n",
    "                                    if (tonames.split(\"@\")[1]=='enron.com'):\n",
    "                                        type='internal'\n",
    "                                        internal+=1\n",
    "                                    else:\n",
    "                                        #print(toname)\n",
    "                                        type='external'\n",
    "                                        external+=1\n",
    "                                    fromnames[fromname]=toname\n",
    "                    \n",
    "            writer.writerow({'From':fromname,\n",
    "                             'Internal Email Count': internal,\n",
    "                             'External Email Count': external\n",
    "                                        })\n",
    "            fromnames={}\n"
   ]
  },
  {
   "cell_type": "markdown",
   "metadata": {
    "collapsed": true
   },
   "source": [
    "# Details of Emails sent with keyword 'Report' or 'Off Books' in their subject "
   ]
  },
  {
   "cell_type": "code",
   "execution_count": 30,
   "metadata": {
    "collapsed": false
   },
   "outputs": [],
   "source": [
    "import glob\n",
    "import os\n",
    "import email\n",
    "from email.parser import Parser\n",
    "import json\n",
    "\n",
    "\n",
    "pathname='C:/Users/labdhi/midterm/data/enron/enron_mail_20150507/maildir'\n",
    "\n",
    "filenames =[]\n",
    "filenames = []\n",
    "path1 = pathname\n",
    "pathdir =[]\n",
    "\n",
    "def names():\n",
    "    for fname in os.listdir(pathname):\n",
    "        path1 = pathname+'/'+fname+'/sent_items' \n",
    "        if os.path.exists(path1):\n",
    "            pathdir.append(path1)\n",
    "    return pathdir\n",
    "\n",
    "\n",
    "def files(pathname):\n",
    "    for fname in os.listdir(pathname):\n",
    "        if os.path.isfile(os.path.join(pathname,fname)):\n",
    "            filenames.append(fname)\n",
    "    return filenames\n",
    "\n",
    "pathdir = names()\n",
    "\n",
    "\n",
    "with open(\"content.txt\", \"w\") as outfile:\n",
    "    for filename in pathdir:\n",
    "        for finame in (files(filename)):\n",
    "            with open(filename+'/'+finame) as fn:\n",
    "                filenames=[]\n",
    "                headers=Parser().parse(fn)\n",
    "                fromname=headers['From']\n",
    "                toname=headers['To']\n",
    "                date = headers['Date']\n",
    "                subject = headers['Subject']\n",
    "                if not (subject.find('Report') == -1):\n",
    "                    json.dump(headers.get_payload(),outfile)\n",
    "                    outfile.write('\\n')\n",
    "                    outfile.write('\\n')\n",
    "                if not (subject.find('Off Books') == -1):\n",
    "                    json.dump(headers.get_payload(),outfile)\n",
    "                    outfile.write('\\n')\n",
    "                    outfile.write('\\n')\n",
    "\n",
    "                    \n"
   ]
  },
  {
   "cell_type": "code",
   "execution_count": null,
   "metadata": {
    "collapsed": true
   },
   "outputs": [],
   "source": []
  }
 ],
 "metadata": {
  "kernelspec": {
   "display_name": "Python [conda root]",
   "language": "python",
   "name": "conda-root-py"
  },
  "language_info": {
   "codemirror_mode": {
    "name": "ipython",
    "version": 3
   },
   "file_extension": ".py",
   "mimetype": "text/x-python",
   "name": "python",
   "nbconvert_exporter": "python",
   "pygments_lexer": "ipython3",
   "version": "3.5.2"
  }
 },
 "nbformat": 4,
 "nbformat_minor": 1
}
