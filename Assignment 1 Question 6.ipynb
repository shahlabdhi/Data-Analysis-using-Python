{
 "cells": [
  {
   "cell_type": "markdown",
   "metadata": {},
   "source": [
    "# Questions\n",
    "- In Inaugural package for every president, find out how many unique words they used in speech"
   ]
  },
  {
   "cell_type": "code",
   "execution_count": 4,
   "metadata": {
    "collapsed": false
   },
   "outputs": [
    {
     "name": "stdout",
     "output_type": "stream",
     "text": [
      "McKinley 1682\n",
      "Harding 1170\n",
      "Wilson 996\n",
      "Coolidge 1221\n",
      "Washington 663\n",
      "Clinton 1138\n",
      "Buchanan 948\n",
      "Hayes 832\n",
      "Truman 781\n",
      "Hoover 1087\n",
      "VanBuren 1318\n",
      "Adams 1503\n",
      "Monroe 1781\n",
      "Garfield 1022\n",
      "Grant 855\n",
      "Kennedy 570\n",
      "Harrison 2662\n",
      "Carter 529\n",
      "Jefferson 1261\n",
      "Taylor 499\n",
      "Roosevelt 1704\n",
      "Reagan 1453\n",
      "Bush 1578\n",
      "Eisenhower 1250\n",
      "Pierce 1168\n",
      "Polk 1333\n",
      "Madison 899\n",
      "Nixon 1037\n",
      "Cleveland 1219\n",
      "Obama 938\n",
      "Taft 1439\n",
      "Jackson 846\n",
      "Lincoln 1261\n",
      "Johnson 571\n"
     ]
    }
   ],
   "source": [
    "import nltk\n",
    "L = nltk.corpus.inaugural.fileids()\n",
    "uniquepresnames = dict()\n",
    "for name in L:\n",
    "    if name[5:-4] not in uniquepresnames:\n",
    "        uniquepresnames[(name[5:-4])] = set()\n",
    "    words_txt = set(nltk.corpus.inaugural.words(name))\n",
    "    for x in words_txt:\n",
    "        uniquepresnames[(name[5:-4])].add(x)\n",
    "for key,value in uniquepresnames.items():\n",
    "    print(key, len(value))"
   ]
  },
  {
   "cell_type": "code",
   "execution_count": null,
   "metadata": {
    "collapsed": true
   },
   "outputs": [],
   "source": []
  }
 ],
 "metadata": {
  "anaconda-cloud": {},
  "kernelspec": {
   "display_name": "Python [conda root]",
   "language": "python",
   "name": "conda-root-py"
  },
  "language_info": {
   "codemirror_mode": {
    "name": "ipython",
    "version": 3
   },
   "file_extension": ".py",
   "mimetype": "text/x-python",
   "name": "python",
   "nbconvert_exporter": "python",
   "pygments_lexer": "ipython3",
   "version": "3.5.2"
  }
 },
 "nbformat": 4,
 "nbformat_minor": 1
}
