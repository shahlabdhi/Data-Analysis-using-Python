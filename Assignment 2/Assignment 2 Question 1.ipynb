{
 "cells": [
  {
   "cell_type": "markdown",
   "metadata": {},
   "source": [
    "# Questions\n",
    "- Prove if Zipf's law works in natural language or not"
   ]
  },
  {
   "cell_type": "code",
   "execution_count": 3,
   "metadata": {
    "collapsed": false
   },
   "outputs": [],
   "source": [
    "import nltk"
   ]
  },
  {
   "cell_type": "code",
   "execution_count": 13,
   "metadata": {
    "collapsed": false
   },
   "outputs": [],
   "source": [
    "import nltk\n",
    "from nltk.corpus.reader.plaintext import PlaintextCorpusReader\n",
    "import csv\n",
    "import glob\n",
    "from nltk import FreqDist\n",
    "from collections import defaultdict\n",
    "\n",
    "def path():\n",
    "     return \"C:/nltk_data/corpora/gutenberg/austen-persuasion.txt\"\n",
    "\n",
    "pathname = path()\n",
    "wordcount={}\n",
    "for filename in glob.glob(pathname):\n",
    "    with open(filename) as f:\n",
    "        for word in f.read().split():\n",
    "            wordspres = word.lower()\n",
    "            if wordspres not in wordcount:\n",
    "                wordcount[wordspres] = 1\n",
    "            else:\n",
    "                wordcount[wordspres] += 1\n",
    "                        \n",
    "        copy = []\n",
    "        result = []\n",
    "        c=1\n",
    "        for k,v in wordcount.items():\n",
    "            temp =[v, k]\n",
    "            copy.append(temp)\n",
    "        copy = sorted(copy, reverse=True, key = lambda item: item[0])\n",
    "        for k in copy:\n",
    "            #temp1 = [k,c]\n",
    "            result.append((k[1],k[0],c))\n",
    "            c=c+1\n",
    "        \n",
    "        with open(\"fdist.csv\", \"w\",newline='') as fp:\n",
    "            writer = csv.writer(fp, delimiter=',', quoting=csv.QUOTE_ALL)\n",
    "            writer.writerow(['Word','Frequency','Rank'])\n",
    "            writer.writerows(result)\n",
    "            "
   ]
  },
  {
   "cell_type": "code",
   "execution_count": 2,
   "metadata": {
    "collapsed": false
   },
   "outputs": [],
   "source": [
    "import nltk\n",
    "from nltk.corpus.reader.plaintext import PlaintextCorpusReader\n",
    "import csv\n",
    "import glob\n",
    "from nltk import FreqDist\n",
    "from collections import defaultdict\n",
    "import os.path\n",
    "\n",
    "def path():\n",
    "     return \"C:/nltk_data/corpora/gutenberg\"\n",
    "\n",
    "pathname = path()\n",
    "wordcount={}\n",
    "for filename in glob.glob(os.path.join(pathname, '*.txt')):\n",
    "    with open(filename) as f:\n",
    "        for word in f.read().split():\n",
    "            wordspres = word.lower()\n",
    "            if wordspres not in wordcount:\n",
    "                wordcount[wordspres] = 1\n",
    "            else:\n",
    "                wordcount[wordspres] += 1\n",
    "                        \n",
    "        copy = []\n",
    "        result = []\n",
    "        c=1\n",
    "        for k,v in wordcount.items():\n",
    "            temp =[v, k]\n",
    "            copy.append(temp)\n",
    "        copy = sorted(copy, reverse=True, key = lambda item: item[0])\n",
    "        for k in copy:\n",
    "            #temp1 = [k,c]\n",
    "            result.append((k[1],k[0],c))\n",
    "            c=c+1\n",
    "        \n",
    "        with open(\"fdist123.csv\", \"w\",newline='') as fp:\n",
    "            writer = csv.writer(fp, delimiter=',', quoting=csv.QUOTE_ALL)\n",
    "            writer.writerow(['Word','Frequency','Rank'])\n",
    "            writer.writerows(result)"
   ]
  },
  {
   "cell_type": "code",
   "execution_count": null,
   "metadata": {
    "collapsed": true
   },
   "outputs": [],
   "source": []
  }
 ],
 "metadata": {
  "anaconda-cloud": {},
  "kernelspec": {
   "display_name": "Python [conda root]",
   "language": "python",
   "name": "conda-root-py"
  },
  "language_info": {
   "codemirror_mode": {
    "name": "ipython",
    "version": 3
   },
   "file_extension": ".py",
   "mimetype": "text/x-python",
   "name": "python",
   "nbconvert_exporter": "python",
   "pygments_lexer": "ipython3",
   "version": "3.5.2"
  }
 },
 "nbformat": 4,
 "nbformat_minor": 1
}
